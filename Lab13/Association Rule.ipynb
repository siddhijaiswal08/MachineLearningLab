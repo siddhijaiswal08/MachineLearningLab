{
 "cells": [
  {
   "cell_type": "code",
   "execution_count": 5,
   "id": "f4f5de00-7c00-4209-8927-7c0b3a3c8360",
   "metadata": {},
   "outputs": [],
   "source": [
    "import pandas as pd\n",
    "from mlxtend.frequent_patterns import apriori, association_rules"
   ]
  },
  {
   "cell_type": "code",
   "execution_count": 3,
   "id": "76b94820-402f-4cf0-8b22-9bb1402b2045",
   "metadata": {},
   "outputs": [
    {
     "name": "stdout",
     "output_type": "stream",
     "text": [
      "Collecting mlxtend\n",
      "  Downloading mlxtend-0.23.4-py3-none-any.whl.metadata (7.3 kB)\n",
      "Requirement already satisfied: scipy>=1.2.1 in c:\\users\\sit\\anaconda3\\lib\\site-packages (from mlxtend) (1.13.1)\n",
      "Requirement already satisfied: numpy>=1.16.2 in c:\\users\\sit\\anaconda3\\lib\\site-packages (from mlxtend) (1.26.4)\n",
      "Requirement already satisfied: pandas>=0.24.2 in c:\\users\\sit\\anaconda3\\lib\\site-packages (from mlxtend) (2.2.2)\n",
      "Requirement already satisfied: scikit-learn>=1.3.1 in c:\\users\\sit\\anaconda3\\lib\\site-packages (from mlxtend) (1.5.1)\n",
      "Requirement already satisfied: matplotlib>=3.0.0 in c:\\users\\sit\\anaconda3\\lib\\site-packages (from mlxtend) (3.9.2)\n",
      "Requirement already satisfied: joblib>=0.13.2 in c:\\users\\sit\\anaconda3\\lib\\site-packages (from mlxtend) (1.4.2)\n",
      "Requirement already satisfied: contourpy>=1.0.1 in c:\\users\\sit\\anaconda3\\lib\\site-packages (from matplotlib>=3.0.0->mlxtend) (1.2.0)\n",
      "Requirement already satisfied: cycler>=0.10 in c:\\users\\sit\\anaconda3\\lib\\site-packages (from matplotlib>=3.0.0->mlxtend) (0.11.0)\n",
      "Requirement already satisfied: fonttools>=4.22.0 in c:\\users\\sit\\anaconda3\\lib\\site-packages (from matplotlib>=3.0.0->mlxtend) (4.51.0)\n",
      "Requirement already satisfied: kiwisolver>=1.3.1 in c:\\users\\sit\\anaconda3\\lib\\site-packages (from matplotlib>=3.0.0->mlxtend) (1.4.4)\n",
      "Requirement already satisfied: packaging>=20.0 in c:\\users\\sit\\anaconda3\\lib\\site-packages (from matplotlib>=3.0.0->mlxtend) (24.1)\n",
      "Requirement already satisfied: pillow>=8 in c:\\users\\sit\\anaconda3\\lib\\site-packages (from matplotlib>=3.0.0->mlxtend) (10.4.0)\n",
      "Requirement already satisfied: pyparsing>=2.3.1 in c:\\users\\sit\\anaconda3\\lib\\site-packages (from matplotlib>=3.0.0->mlxtend) (3.1.2)\n",
      "Requirement already satisfied: python-dateutil>=2.7 in c:\\users\\sit\\anaconda3\\lib\\site-packages (from matplotlib>=3.0.0->mlxtend) (2.9.0.post0)\n",
      "Requirement already satisfied: pytz>=2020.1 in c:\\users\\sit\\anaconda3\\lib\\site-packages (from pandas>=0.24.2->mlxtend) (2024.1)\n",
      "Requirement already satisfied: tzdata>=2022.7 in c:\\users\\sit\\anaconda3\\lib\\site-packages (from pandas>=0.24.2->mlxtend) (2023.3)\n",
      "Requirement already satisfied: threadpoolctl>=3.1.0 in c:\\users\\sit\\anaconda3\\lib\\site-packages (from scikit-learn>=1.3.1->mlxtend) (3.5.0)\n",
      "Requirement already satisfied: six>=1.5 in c:\\users\\sit\\anaconda3\\lib\\site-packages (from python-dateutil>=2.7->matplotlib>=3.0.0->mlxtend) (1.16.0)\n",
      "Downloading mlxtend-0.23.4-py3-none-any.whl (1.4 MB)\n",
      "   ---------------------------------------- 0.0/1.4 MB ? eta -:--:--\n",
      "   ---------------------------------------- 1.4/1.4 MB 23.2 MB/s eta 0:00:00\n",
      "Installing collected packages: mlxtend\n",
      "Successfully installed mlxtend-0.23.4\n"
     ]
    }
   ],
   "source": [
    "!pip install mlxtend "
   ]
  },
  {
   "cell_type": "code",
   "execution_count": 9,
   "id": "77886fd7-e738-4cf9-9938-ec0c637e652d",
   "metadata": {},
   "outputs": [],
   "source": [
    "#each transaction is a list of items purchased together \n",
    "dataset= [\n",
    "    [\"milk\",\"bread\",\"nuts\",\"apple\"],\n",
    "    [\"milk\",\"bread\",\"nuts\"],\n",
    "    [\"milk\",\"bread\"],\n",
    "    [\"milk\",\"apple\"],\n",
    "    [\"bread\",\"apple\"],\n",
    "    [\"milk\",\"bread\",\"apple\"],\n",
    "    [\"milk\",\"bread\",\"apple\"],\n",
    "    [\"bread\",\"nuts\"]\n",
    "]"
   ]
  },
  {
   "cell_type": "code",
   "execution_count": 11,
   "id": "29f95915-7813-4f8a-b92c-8c9c37addc23",
   "metadata": {},
   "outputs": [],
   "source": [
    "from mlxtend.preprocessing import TransactionEncoder\n",
    "te= TransactionEncoder()\n",
    "te_array=te.fit(dataset).transform(dataset)\n",
    "df=pd.DataFrame(te_array,columns=te.columns_)"
   ]
  },
  {
   "cell_type": "code",
   "execution_count": 13,
   "id": "3f781bde-4766-4304-803c-38d5121afad2",
   "metadata": {},
   "outputs": [
    {
     "name": "stdout",
     "output_type": "stream",
     "text": [
      "One=Hot Encoded Transaction Data:\n",
      "   apple  bread   milk   nuts\n",
      "0   True   True   True   True\n",
      "1  False   True   True   True\n",
      "2  False   True   True  False\n",
      "3   True  False   True  False\n",
      "4   True   True  False  False\n",
      "5   True   True   True  False\n",
      "6   True   True   True  False\n",
      "7  False   True  False   True\n"
     ]
    }
   ],
   "source": [
    "print(\"One=Hot Encoded Transaction Data:\")\n",
    "print(df)"
   ]
  },
  {
   "cell_type": "code",
   "execution_count": 15,
   "id": "1cad46dc-44a9-4ce5-b887-e910efdb9691",
   "metadata": {},
   "outputs": [
    {
     "name": "stdout",
     "output_type": "stream",
     "text": [
      "\n",
      " Frequent Itemsets:\n",
      "   support              itemsets\n",
      "0    0.625               (apple)\n",
      "1    0.875               (bread)\n",
      "2    0.750                (milk)\n",
      "3    0.375                (nuts)\n",
      "4    0.500        (bread, apple)\n",
      "5    0.500         (milk, apple)\n",
      "6    0.625         (bread, milk)\n",
      "7    0.375         (bread, nuts)\n",
      "8    0.375  (bread, milk, apple)\n"
     ]
    }
   ],
   "source": [
    "frequent_itemsets=apriori(df,min_support=0.3,use_colnames=True)\n",
    "print(\"\\n Frequent Itemsets:\")\n",
    "print(frequent_itemsets)"
   ]
  },
  {
   "cell_type": "code",
   "execution_count": 25,
   "id": "63222a16-9ab1-4499-a07b-2cd179425242",
   "metadata": {},
   "outputs": [
    {
     "name": "stdout",
     "output_type": "stream",
     "text": [
      "\n",
      " Association Rules:\n",
      "      antecedents     consequents  support  confidence      lift\n",
      "0          (milk)         (apple)    0.500    0.666667  1.066667\n",
      "1         (apple)          (milk)    0.500    0.800000  1.066667\n",
      "2         (bread)          (nuts)    0.375    0.428571  1.142857\n",
      "3          (nuts)         (bread)    0.375    1.000000  1.142857\n",
      "4  (bread, apple)          (milk)    0.375    0.750000  1.000000\n",
      "5          (milk)  (bread, apple)    0.375    0.500000  1.000000\n"
     ]
    }
   ],
   "source": [
    "rules=association_rules(frequent_itemsets,metric=\"lift\",min_threshold=1.0)\n",
    "print(\"\\n Association Rules:\")\n",
    "print(rules[[\"antecedents\",\"consequents\",\"support\",\"confidence\",\"lift\"]])"
   ]
  },
  {
   "cell_type": "code",
   "execution_count": 27,
   "id": "7d63913b-0f99-4cac-91c9-e14ea347649b",
   "metadata": {},
   "outputs": [
    {
     "name": "stdout",
     "output_type": "stream",
     "text": [
      "\n",
      " Top rules by Lift\n",
      "      antecedents     consequents  support  confidence      lift\n",
      "2         (bread)          (nuts)    0.375    0.428571  1.142857\n",
      "3          (nuts)         (bread)    0.375    1.000000  1.142857\n",
      "0          (milk)         (apple)    0.500    0.666667  1.066667\n",
      "1         (apple)          (milk)    0.500    0.800000  1.066667\n",
      "4  (bread, apple)          (milk)    0.375    0.750000  1.000000\n",
      "5          (milk)  (bread, apple)    0.375    0.500000  1.000000\n"
     ]
    }
   ],
   "source": [
    "rules=rules.sort_values(by=\"lift\",ascending=False)\n",
    "print(\"\\n Top rules by Lift\")\n",
    "print(rules[[\"antecedents\",\"consequents\",\"support\",\"confidence\",\"lift\"]])"
   ]
  },
  {
   "cell_type": "code",
   "execution_count": null,
   "id": "8dbe8984-b874-4d16-b795-964eebd0d039",
   "metadata": {},
   "outputs": [],
   "source": []
  }
 ],
 "metadata": {
  "kernelspec": {
   "display_name": "Python [conda env:base] *",
   "language": "python",
   "name": "conda-base-py"
  },
  "language_info": {
   "codemirror_mode": {
    "name": "ipython",
    "version": 3
   },
   "file_extension": ".py",
   "mimetype": "text/x-python",
   "name": "python",
   "nbconvert_exporter": "python",
   "pygments_lexer": "ipython3",
   "version": "3.12.7"
  }
 },
 "nbformat": 4,
 "nbformat_minor": 5
}
